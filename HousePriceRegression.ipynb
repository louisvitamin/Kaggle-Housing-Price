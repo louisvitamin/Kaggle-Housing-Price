{
 "cells": [
  {
   "cell_type": "code",
   "execution_count": 388,
   "metadata": {
    "collapsed": true
   },
   "outputs": [],
   "source": [
    "import pandas as pd\n",
    "import numpy as np\n",
    "import matplotlib.pyplot as plt\n",
    "import seaborn as sns\n",
    "from sklearn import ensemble, tree, linear_model\n",
    "from sklearn.model_selection import train_test_split, cross_val_score\n",
    "from sklearn.metrics import r2_score, mean_squared_error\n",
    "from sklearn.ensemble import RandomForestRegressor\n",
    "from scipy import stats\n",
    "from sklearn.linear_model import Ridge, RidgeCV, ElasticNet,ElasticNetCV,LassoCV, Lasso\n",
    "from sklearn.utils import shuffle\n",
    "from sklearn.model_selection import GridSearchCV\n",
    "%matplotlib inline\n"
   ]
  },
  {
   "cell_type": "code",
   "execution_count": 389,
   "metadata": {
    "collapsed": false
   },
   "outputs": [],
   "source": [
    "import warnings\n",
    "warnings.filterwarnings('ignore')"
   ]
  },
  {
   "cell_type": "code",
   "execution_count": 390,
   "metadata": {
    "collapsed": true
   },
   "outputs": [],
   "source": [
    "np.random.seed(42)"
   ]
  },
  {
   "cell_type": "code",
   "execution_count": 391,
   "metadata": {
    "collapsed": false,
    "scrolled": true
   },
   "outputs": [
    {
     "data": {
      "text/plain": [
       "(1460, 81)"
      ]
     },
     "execution_count": 391,
     "metadata": {},
     "output_type": "execute_result"
    }
   ],
   "source": [
    "train = pd.read_csv(\"train.csv\")\n",
    "test = pd.read_csv(\"test.csv\")\n",
    "train.shape"
   ]
  },
  {
   "cell_type": "markdown",
   "metadata": {},
   "source": [
    "# Exploratary Data Analysis & Data Cleaning"
   ]
  },
  {
   "cell_type": "code",
   "execution_count": 153,
   "metadata": {
    "collapsed": false
   },
   "outputs": [
    {
     "data": {
      "text/html": [
       "<div>\n",
       "<table border=\"1\" class=\"dataframe\">\n",
       "  <thead>\n",
       "    <tr style=\"text-align: right;\">\n",
       "      <th></th>\n",
       "      <th>Id</th>\n",
       "      <th>MSSubClass</th>\n",
       "      <th>MSZoning</th>\n",
       "      <th>LotFrontage</th>\n",
       "      <th>LotArea</th>\n",
       "      <th>Street</th>\n",
       "      <th>Alley</th>\n",
       "      <th>LotShape</th>\n",
       "      <th>LandContour</th>\n",
       "      <th>Utilities</th>\n",
       "      <th>...</th>\n",
       "      <th>PoolArea</th>\n",
       "      <th>PoolQC</th>\n",
       "      <th>Fence</th>\n",
       "      <th>MiscFeature</th>\n",
       "      <th>MiscVal</th>\n",
       "      <th>MoSold</th>\n",
       "      <th>YrSold</th>\n",
       "      <th>SaleType</th>\n",
       "      <th>SaleCondition</th>\n",
       "      <th>SalePrice</th>\n",
       "    </tr>\n",
       "  </thead>\n",
       "  <tbody>\n",
       "    <tr>\n",
       "      <th>0</th>\n",
       "      <td>1</td>\n",
       "      <td>60</td>\n",
       "      <td>RL</td>\n",
       "      <td>65.0</td>\n",
       "      <td>8450</td>\n",
       "      <td>Pave</td>\n",
       "      <td>NaN</td>\n",
       "      <td>Reg</td>\n",
       "      <td>Lvl</td>\n",
       "      <td>AllPub</td>\n",
       "      <td>...</td>\n",
       "      <td>0</td>\n",
       "      <td>NaN</td>\n",
       "      <td>NaN</td>\n",
       "      <td>NaN</td>\n",
       "      <td>0</td>\n",
       "      <td>2</td>\n",
       "      <td>2008</td>\n",
       "      <td>WD</td>\n",
       "      <td>Normal</td>\n",
       "      <td>208500</td>\n",
       "    </tr>\n",
       "    <tr>\n",
       "      <th>1</th>\n",
       "      <td>2</td>\n",
       "      <td>20</td>\n",
       "      <td>RL</td>\n",
       "      <td>80.0</td>\n",
       "      <td>9600</td>\n",
       "      <td>Pave</td>\n",
       "      <td>NaN</td>\n",
       "      <td>Reg</td>\n",
       "      <td>Lvl</td>\n",
       "      <td>AllPub</td>\n",
       "      <td>...</td>\n",
       "      <td>0</td>\n",
       "      <td>NaN</td>\n",
       "      <td>NaN</td>\n",
       "      <td>NaN</td>\n",
       "      <td>0</td>\n",
       "      <td>5</td>\n",
       "      <td>2007</td>\n",
       "      <td>WD</td>\n",
       "      <td>Normal</td>\n",
       "      <td>181500</td>\n",
       "    </tr>\n",
       "    <tr>\n",
       "      <th>2</th>\n",
       "      <td>3</td>\n",
       "      <td>60</td>\n",
       "      <td>RL</td>\n",
       "      <td>68.0</td>\n",
       "      <td>11250</td>\n",
       "      <td>Pave</td>\n",
       "      <td>NaN</td>\n",
       "      <td>IR1</td>\n",
       "      <td>Lvl</td>\n",
       "      <td>AllPub</td>\n",
       "      <td>...</td>\n",
       "      <td>0</td>\n",
       "      <td>NaN</td>\n",
       "      <td>NaN</td>\n",
       "      <td>NaN</td>\n",
       "      <td>0</td>\n",
       "      <td>9</td>\n",
       "      <td>2008</td>\n",
       "      <td>WD</td>\n",
       "      <td>Normal</td>\n",
       "      <td>223500</td>\n",
       "    </tr>\n",
       "    <tr>\n",
       "      <th>3</th>\n",
       "      <td>4</td>\n",
       "      <td>70</td>\n",
       "      <td>RL</td>\n",
       "      <td>60.0</td>\n",
       "      <td>9550</td>\n",
       "      <td>Pave</td>\n",
       "      <td>NaN</td>\n",
       "      <td>IR1</td>\n",
       "      <td>Lvl</td>\n",
       "      <td>AllPub</td>\n",
       "      <td>...</td>\n",
       "      <td>0</td>\n",
       "      <td>NaN</td>\n",
       "      <td>NaN</td>\n",
       "      <td>NaN</td>\n",
       "      <td>0</td>\n",
       "      <td>2</td>\n",
       "      <td>2006</td>\n",
       "      <td>WD</td>\n",
       "      <td>Abnorml</td>\n",
       "      <td>140000</td>\n",
       "    </tr>\n",
       "    <tr>\n",
       "      <th>4</th>\n",
       "      <td>5</td>\n",
       "      <td>60</td>\n",
       "      <td>RL</td>\n",
       "      <td>84.0</td>\n",
       "      <td>14260</td>\n",
       "      <td>Pave</td>\n",
       "      <td>NaN</td>\n",
       "      <td>IR1</td>\n",
       "      <td>Lvl</td>\n",
       "      <td>AllPub</td>\n",
       "      <td>...</td>\n",
       "      <td>0</td>\n",
       "      <td>NaN</td>\n",
       "      <td>NaN</td>\n",
       "      <td>NaN</td>\n",
       "      <td>0</td>\n",
       "      <td>12</td>\n",
       "      <td>2008</td>\n",
       "      <td>WD</td>\n",
       "      <td>Normal</td>\n",
       "      <td>250000</td>\n",
       "    </tr>\n",
       "  </tbody>\n",
       "</table>\n",
       "<p>5 rows × 81 columns</p>\n",
       "</div>"
      ],
      "text/plain": [
       "   Id  MSSubClass MSZoning  LotFrontage  LotArea Street Alley LotShape  \\\n",
       "0   1          60       RL         65.0     8450   Pave   NaN      Reg   \n",
       "1   2          20       RL         80.0     9600   Pave   NaN      Reg   \n",
       "2   3          60       RL         68.0    11250   Pave   NaN      IR1   \n",
       "3   4          70       RL         60.0     9550   Pave   NaN      IR1   \n",
       "4   5          60       RL         84.0    14260   Pave   NaN      IR1   \n",
       "\n",
       "  LandContour Utilities    ...     PoolArea PoolQC Fence MiscFeature MiscVal  \\\n",
       "0         Lvl    AllPub    ...            0    NaN   NaN         NaN       0   \n",
       "1         Lvl    AllPub    ...            0    NaN   NaN         NaN       0   \n",
       "2         Lvl    AllPub    ...            0    NaN   NaN         NaN       0   \n",
       "3         Lvl    AllPub    ...            0    NaN   NaN         NaN       0   \n",
       "4         Lvl    AllPub    ...            0    NaN   NaN         NaN       0   \n",
       "\n",
       "  MoSold YrSold  SaleType  SaleCondition  SalePrice  \n",
       "0      2   2008        WD         Normal     208500  \n",
       "1      5   2007        WD         Normal     181500  \n",
       "2      9   2008        WD         Normal     223500  \n",
       "3      2   2006        WD        Abnorml     140000  \n",
       "4     12   2008        WD         Normal     250000  \n",
       "\n",
       "[5 rows x 81 columns]"
      ]
     },
     "execution_count": 153,
     "metadata": {},
     "output_type": "execute_result"
    }
   ],
   "source": [
    "train.head()"
   ]
  },
  {
   "cell_type": "code",
   "execution_count": 154,
   "metadata": {
    "collapsed": false,
    "scrolled": true
   },
   "outputs": [
    {
     "data": {
      "text/plain": [
       "Index(['Id', 'MSSubClass', 'MSZoning', 'LotFrontage', 'LotArea', 'Street',\n",
       "       'Alley', 'LotShape', 'LandContour', 'Utilities', 'LotConfig',\n",
       "       'LandSlope', 'Neighborhood', 'Condition1', 'Condition2', 'BldgType',\n",
       "       'HouseStyle', 'OverallQual', 'OverallCond', 'YearBuilt', 'YearRemodAdd',\n",
       "       'RoofStyle', 'RoofMatl', 'Exterior1st', 'Exterior2nd', 'MasVnrType',\n",
       "       'MasVnrArea', 'ExterQual', 'ExterCond', 'Foundation', 'BsmtQual',\n",
       "       'BsmtCond', 'BsmtExposure', 'BsmtFinType1', 'BsmtFinSF1',\n",
       "       'BsmtFinType2', 'BsmtFinSF2', 'BsmtUnfSF', 'TotalBsmtSF', 'Heating',\n",
       "       'HeatingQC', 'CentralAir', 'Electrical', '1stFlrSF', '2ndFlrSF',\n",
       "       'LowQualFinSF', 'GrLivArea', 'BsmtFullBath', 'BsmtHalfBath', 'FullBath',\n",
       "       'HalfBath', 'BedroomAbvGr', 'KitchenAbvGr', 'KitchenQual',\n",
       "       'TotRmsAbvGrd', 'Functional', 'Fireplaces', 'FireplaceQu', 'GarageType',\n",
       "       'GarageYrBlt', 'GarageFinish', 'GarageCars', 'GarageArea', 'GarageQual',\n",
       "       'GarageCond', 'PavedDrive', 'WoodDeckSF', 'OpenPorchSF',\n",
       "       'EnclosedPorch', '3SsnPorch', 'ScreenPorch', 'PoolArea', 'PoolQC',\n",
       "       'Fence', 'MiscFeature', 'MiscVal', 'MoSold', 'YrSold', 'SaleType',\n",
       "       'SaleCondition', 'SalePrice'],\n",
       "      dtype='object')"
      ]
     },
     "execution_count": 154,
     "metadata": {},
     "output_type": "execute_result"
    }
   ],
   "source": [
    "train.columns"
   ]
  },
  {
   "cell_type": "markdown",
   "metadata": {},
   "source": [
    "### Outliers"
   ]
  },
  {
   "cell_type": "code",
   "execution_count": 392,
   "metadata": {
    "collapsed": false
   },
   "outputs": [
    {
     "data": {
      "image/png": "[encoded data removed]",
      "text/plain": [
       "<matplotlib.figure.Figure at 0x118d82438>"
      ]
     },
     "metadata": {},
     "output_type": "display_data"
    }
   ],
   "source": [
    "plt.scatter(train.GrLivArea, train.SalePrice, c = \"blue\", marker = \"s\")\n",
    "plt.title(\"Looking for outliers\")\n",
    "plt.xlabel(\"GrLivArea\")\n",
    "plt.ylabel(\"SalePrice\")\n",
    "plt.show()"
   ]
  },
  {
   "cell_type": "markdown",
   "metadata": {},
   "source": [
    "By ploting the SalePrice VS. GrLivArea, we find some outliers with more than 4000 GrLivArea. Credits to juliencs's pointing out this ( https://www.kaggle.com/juliencs/house-prices-advanced-regression-techniques/a-study-on-regression-applied-to-the-ames-dataset) "
   ]
  },
  {
   "cell_type": "code",
   "execution_count": 393,
   "metadata": {
    "collapsed": true
   },
   "outputs": [],
   "source": [
    "train = train[train.GrLivArea < 4000]\n",
    "# delete 4 rows; now 1456 rows"
   ]
  },
  {
   "cell_type": "code",
   "execution_count": 394,
   "metadata": {
    "collapsed": true
   },
   "outputs": [],
   "source": [
    "alldata = pd.concat((train.loc[:,'MSSubClass':'SaleCondition'],\n",
    "                      test.loc[:,'MSSubClass':'SaleCondition']))"
   ]
  },
  {
   "cell_type": "markdown",
   "metadata": {},
   "source": [
    "Take a deeper look at variables. Let's see what variables are numerical."
   ]
  },
  {
   "cell_type": "code",
   "execution_count": 395,
   "metadata": {
    "collapsed": false
   },
   "outputs": [
    {
     "name": "stdout",
     "output_type": "stream",
     "text": [
      "['Id', 'MSSubClass', 'LotFrontage', 'LotArea', 'OverallQual', 'OverallCond', 'YearBuilt', 'YearRemodAdd', 'MasVnrArea', 'BsmtFinSF1', 'BsmtFinSF2', 'BsmtUnfSF', 'TotalBsmtSF', '1stFlrSF', '2ndFlrSF', 'LowQualFinSF', 'GrLivArea', 'BsmtFullBath', 'BsmtHalfBath', 'FullBath', 'HalfBath', 'BedroomAbvGr', 'KitchenAbvGr', 'TotRmsAbvGrd', 'Fireplaces', 'GarageYrBlt', 'GarageCars', 'GarageArea', 'WoodDeckSF', 'OpenPorchSF', 'EnclosedPorch', '3SsnPorch', 'ScreenPorch', 'PoolArea', 'MiscVal', 'MoSold', 'YrSold', 'SalePrice']\n"
     ]
    }
   ],
   "source": [
    "print(list(train.select_dtypes(include=[np.number]).columns.values))"
   ]
  },
  {
   "cell_type": "markdown",
   "metadata": {},
   "source": [
    "Among those variables, many are actually categoraical. Also, variables about date need to be converted."
   ]
  },
  {
   "cell_type": "code",
   "execution_count": 396,
   "metadata": {
    "collapsed": false
   },
   "outputs": [
    {
     "data": {
      "text/plain": [
       "6     253\n",
       "7     233\n",
       "5     204\n",
       "4     141\n",
       "8     122\n",
       "3     106\n",
       "10     88\n",
       "11     79\n",
       "9      63\n",
       "12     59\n",
       "1      56\n",
       "2      52\n",
       "Name: MoSold, dtype: int64"
      ]
     },
     "execution_count": 396,
     "metadata": {},
     "output_type": "execute_result"
    }
   ],
   "source": [
    "train[\"MoSold\"].value_counts()\n",
    "# MoSold: most sales are made in summer time (4 - 8)"
   ]
  },
  {
   "cell_type": "code",
   "execution_count": 397,
   "metadata": {
    "collapsed": true
   },
   "outputs": [],
   "source": [
    "alldata['MoSold'] = ['Summer' if x in [4,5,6,7,8] else 'Winter' for x in alldata['MoSold']]"
   ]
  },
  {
   "cell_type": "code",
   "execution_count": 398,
   "metadata": {
    "collapsed": false
   },
   "outputs": [
    {
     "data": {
      "text/plain": [
       "Summer    1854\n",
       "Winter    1061\n",
       "Name: MoSold, dtype: int64"
      ]
     },
     "execution_count": 398,
     "metadata": {},
     "output_type": "execute_result"
    }
   ],
   "source": [
    "alldata[\"MoSold\"].value_counts()"
   ]
  },
  {
   "cell_type": "code",
   "execution_count": 399,
   "metadata": {
    "collapsed": true
   },
   "outputs": [],
   "source": [
    "# Convert year variable to numerical measurement: Take the difference between 2017 and the value of year variable\n",
    "alldata[\"YearBuilt\"] = 2017 - alldata[\"YearBuilt\"]\n",
    "alldata[\"YearRemodAdd\"] = 2017 - alldata[\"YearRemodAdd\"]\n",
    "alldata[\"YrSold\"] = 2017 - alldata[\"YrSold\"]\n",
    "alldata[\"GarageYrBlt\"] = 2017 - alldata[\"GarageYrBlt\"]"
   ]
  },
  {
   "cell_type": "code",
   "execution_count": 400,
   "metadata": {
    "collapsed": true
   },
   "outputs": [],
   "source": [
    "# Convert those \"numerical\" variables to categorical \n",
    "cat_var = ['MSSubClass',\"OverallQual\",\"OverallCond\",\"MoSold\"]\n",
    "alldata[cat_var] = alldata[cat_var].astype(str)"
   ]
  },
  {
   "cell_type": "markdown",
   "metadata": {},
   "source": [
    "### Missing Values"
   ]
  },
  {
   "cell_type": "code",
   "execution_count": 401,
   "metadata": {
    "collapsed": false
   },
   "outputs": [
    {
     "data": {
      "text/html": [
       "<div>\n",
       "<table border=\"1\" class=\"dataframe\">\n",
       "  <thead>\n",
       "    <tr style=\"text-align: right;\">\n",
       "      <th></th>\n",
       "      <th>Percent</th>\n",
       "    </tr>\n",
       "  </thead>\n",
       "  <tbody>\n",
       "    <tr>\n",
       "      <th>PoolQC</th>\n",
       "      <td>0.997256</td>\n",
       "    </tr>\n",
       "    <tr>\n",
       "      <th>MiscFeature</th>\n",
       "      <td>0.963979</td>\n",
       "    </tr>\n",
       "    <tr>\n",
       "      <th>Alley</th>\n",
       "      <td>0.932075</td>\n",
       "    </tr>\n",
       "    <tr>\n",
       "      <th>Fence</th>\n",
       "      <td>0.804460</td>\n",
       "    </tr>\n",
       "    <tr>\n",
       "      <th>FireplaceQu</th>\n",
       "      <td>0.487136</td>\n",
       "    </tr>\n",
       "    <tr>\n",
       "      <th>LotFrontage</th>\n",
       "      <td>0.166724</td>\n",
       "    </tr>\n",
       "    <tr>\n",
       "      <th>GarageYrBlt</th>\n",
       "      <td>0.054545</td>\n",
       "    </tr>\n",
       "    <tr>\n",
       "      <th>GarageFinish</th>\n",
       "      <td>0.054545</td>\n",
       "    </tr>\n",
       "    <tr>\n",
       "      <th>GarageQual</th>\n",
       "      <td>0.054545</td>\n",
       "    </tr>\n",
       "    <tr>\n",
       "      <th>GarageCond</th>\n",
       "      <td>0.054545</td>\n",
       "    </tr>\n",
       "  </tbody>\n",
       "</table>\n",
       "</div>"
      ],
      "text/plain": [
       "               Percent\n",
       "PoolQC        0.997256\n",
       "MiscFeature   0.963979\n",
       "Alley         0.932075\n",
       "Fence         0.804460\n",
       "FireplaceQu   0.487136\n",
       "LotFrontage   0.166724\n",
       "GarageYrBlt   0.054545\n",
       "GarageFinish  0.054545\n",
       "GarageQual    0.054545\n",
       "GarageCond    0.054545"
      ]
     },
     "execution_count": 401,
     "metadata": {},
     "output_type": "execute_result"
    }
   ],
   "source": [
    "NA = alldata.isnull().sum()/alldata.shape[0]\n",
    "NA = NA.to_frame(name='Percent')\n",
    "NA.sort_values(by = ['Percent'],ascending=False).head(10)"
   ]
  },
  {
   "cell_type": "code",
   "execution_count": 402,
   "metadata": {
    "collapsed": true
   },
   "outputs": [],
   "source": [
    "### I remove features which contain more than 20% Nan (Actually those are not very\n",
    "### relavant to our interest).\n",
    "alldata = alldata.drop(alldata[NA[NA.Percent > 0.2].index],1)"
   ]
  },
  {
   "cell_type": "markdown",
   "metadata": {},
   "source": [
    "Fill missing values:   \n",
    "- Numerical: using the median of the existing observations\n",
    "- Categorical: using the most frequent value of the existing observations"
   ]
  },
  {
   "cell_type": "code",
   "execution_count": 403,
   "metadata": {
    "collapsed": false
   },
   "outputs": [
    {
     "name": "stdout",
     "output_type": "stream",
     "text": [
      "['LotFrontage', 'MasVnrArea', 'BsmtFinSF1', 'BsmtFinSF2', 'BsmtUnfSF', 'TotalBsmtSF', 'BsmtFullBath', 'BsmtHalfBath', 'GarageYrBlt', 'GarageCars', 'GarageArea']\n"
     ]
    }
   ],
   "source": [
    "### Show which column containing missing value is numerical column\n",
    "missing = alldata.columns[pd.isnull(alldata).sum() > 0].tolist()\n",
    "num_missing = list(alldata[missing].select_dtypes(include=[np.number]).columns.values)\n",
    "print(num_missing)"
   ]
  },
  {
   "cell_type": "code",
   "execution_count": 404,
   "metadata": {
    "collapsed": true
   },
   "outputs": [],
   "source": [
    "from sklearn.preprocessing import Imputer\n",
    "imp = Imputer(missing_values = 'NaN', strategy = 'median', axis = 0)\n",
    "alldata[num_missing] = imp.fit_transform(alldata[num_missing])"
   ]
  },
  {
   "cell_type": "code",
   "execution_count": 405,
   "metadata": {
    "collapsed": true
   },
   "outputs": [],
   "source": [
    "### Fill categorical NaN\n",
    "alldata = alldata.apply(lambda x:x.fillna(x.value_counts().index[0]))"
   ]
  },
  {
   "cell_type": "code",
   "execution_count": 406,
   "metadata": {
    "collapsed": false
   },
   "outputs": [
    {
     "data": {
      "text/plain": [
       "[]"
      ]
     },
     "execution_count": 406,
     "metadata": {},
     "output_type": "execute_result"
    }
   ],
   "source": [
    "# Now all NaN are gone\n",
    "alldata.columns[pd.isnull(alldata).sum() > 0].tolist()"
   ]
  },
  {
   "cell_type": "markdown",
   "metadata": {
    "collapsed": true
   },
   "source": [
    "Some numerical variables can be added to create new variables."
   ]
  },
  {
   "cell_type": "code",
   "execution_count": 407,
   "metadata": {
    "collapsed": true
   },
   "outputs": [],
   "source": [
    "alldata['TotalSF'] = alldata['TotalBsmtSF'] + alldata['1stFlrSF'] + alldata['2ndFlrSF']\n",
    "alldata['TotalBath'] = alldata[\"BsmtFullBath\"] + alldata[\"FullBath\"] + 0.5*alldata[\"BsmtHalfBath\"] +0.5*alldata[\"HalfBath\"]"
   ]
  },
  {
   "cell_type": "markdown",
   "metadata": {
    "collapsed": true
   },
   "source": [
    "### Log1p Transformation:\n",
    "- SalePrice\n",
    "- Some numerical variables"
   ]
  },
  {
   "cell_type": "code",
   "execution_count": 408,
   "metadata": {
    "collapsed": false
   },
   "outputs": [
    {
     "data": {
      "text/plain": [
       "<matplotlib.axes._subplots.AxesSubplot at 0x115c5d9e8>"
      ]
     },
     "execution_count": 408,
     "metadata": {},
     "output_type": "execute_result"
    },
    {
     "data": {
      "image/png": "[encoded data removed]",
      "text/plain": [
       "<matplotlib.figure.Figure at 0x115c5d6a0>"
      ]
     },
     "metadata": {},
     "output_type": "display_data"
    }
   ],
   "source": [
    "# SalePrice is skewed\n",
    "sns.distplot(train.SalePrice)"
   ]
  },
  {
   "cell_type": "code",
   "execution_count": 409,
   "metadata": {
    "collapsed": false
   },
   "outputs": [
    {
     "data": {
      "text/plain": [
       "<matplotlib.axes._subplots.AxesSubplot at 0x11db7f400>"
      ]
     },
     "execution_count": 409,
     "metadata": {},
     "output_type": "execute_result"
    },
    {
     "data": {
      "image/png": "[encoded data removed]",
      "text/plain": [
       "<matplotlib.figure.Figure at 0x11db89c50>"
      ]
     },
     "metadata": {},
     "output_type": "display_data"
    }
   ],
   "source": [
    "y = np.log1p(train['SalePrice'])\n",
    "\n",
    "sns.distplot(y)"
   ]
  },
  {
   "cell_type": "code",
   "execution_count": 410,
   "metadata": {
    "collapsed": false
   },
   "outputs": [
    {
     "data": {
      "text/plain": [
       "<matplotlib.axes._subplots.AxesSubplot at 0x11c998828>"
      ]
     },
     "execution_count": 410,
     "metadata": {},
     "output_type": "execute_result"
    },
    {
     "data": {
      "image/png": "[encoded data removed]",
      "text/plain": [
       "<matplotlib.figure.Figure at 0x11e0662b0>"
      ]
     },
     "metadata": {},
     "output_type": "display_data"
    }
   ],
   "source": [
    "# Some variables are skewed\n",
    "sns.distplot(train.LotArea)"
   ]
  },
  {
   "cell_type": "code",
   "execution_count": 411,
   "metadata": {
    "collapsed": true
   },
   "outputs": [],
   "source": [
    "from scipy.stats import skew\n",
    "num_feats = list(alldata.select_dtypes(include=[np.number]).columns.values)\n",
    "skewed_feats = alldata[num_feats].apply(lambda x: skew(x.dropna())) #compute skewness\n",
    "skewed_feats = skewed_feats[skewed_feats > 0.75]\n",
    "skewed_feats = skewed_feats.index\n"
   ]
  },
  {
   "cell_type": "code",
   "execution_count": 412,
   "metadata": {
    "collapsed": true
   },
   "outputs": [],
   "source": [
    "alldata[skewed_feats] = np.log1p(alldata[skewed_feats])"
   ]
  },
  {
   "cell_type": "markdown",
   "metadata": {},
   "source": [
    "## Dummy variables for categorial features"
   ]
  },
  {
   "cell_type": "code",
   "execution_count": 413,
   "metadata": {
    "collapsed": false
   },
   "outputs": [
    {
     "data": {
      "text/plain": [
       "['LotFrontage',\n",
       " 'LotArea',\n",
       " 'YearBuilt',\n",
       " 'YearRemodAdd',\n",
       " 'MasVnrArea',\n",
       " 'BsmtFinSF1',\n",
       " 'BsmtFinSF2',\n",
       " 'BsmtUnfSF',\n",
       " 'TotalBsmtSF',\n",
       " '1stFlrSF',\n",
       " '2ndFlrSF',\n",
       " 'LowQualFinSF',\n",
       " 'GrLivArea',\n",
       " 'BsmtFullBath',\n",
       " 'BsmtHalfBath',\n",
       " 'FullBath',\n",
       " 'HalfBath',\n",
       " 'BedroomAbvGr',\n",
       " 'KitchenAbvGr',\n",
       " 'TotRmsAbvGrd',\n",
       " 'Fireplaces',\n",
       " 'GarageYrBlt',\n",
       " 'GarageCars',\n",
       " 'GarageArea',\n",
       " 'WoodDeckSF',\n",
       " 'OpenPorchSF',\n",
       " 'EnclosedPorch',\n",
       " '3SsnPorch',\n",
       " 'ScreenPorch',\n",
       " 'PoolArea',\n",
       " 'MiscVal',\n",
       " 'YrSold',\n",
       " 'TotalSF',\n",
       " 'TotalBath']"
      ]
     },
     "execution_count": 413,
     "metadata": {},
     "output_type": "execute_result"
    }
   ],
   "source": [
    "num_feats"
   ]
  },
  {
   "cell_type": "code",
   "execution_count": 414,
   "metadata": {
    "collapsed": false
   },
   "outputs": [],
   "source": [
    "alldata.drop(['TotalBsmtSF', '1stFlrSF', '2ndFlrSF',\"BsmtFullBath\",\n",
    "               \"FullBath\",\"HalfBath\",\"BsmtHalfBath\"], axis=1, inplace=True)"
   ]
  },
  {
   "cell_type": "code",
   "execution_count": 415,
   "metadata": {
    "collapsed": true
   },
   "outputs": [],
   "source": [
    "df = alldata.copy()"
   ]
  },
  {
   "cell_type": "code",
   "execution_count": 416,
   "metadata": {
    "collapsed": false
   },
   "outputs": [],
   "source": [
    "# standardize numerical features\n",
    "num_feats = list(alldata.select_dtypes(include=[np.number]).columns.values)\n",
    "df[num_feats] = (df[num_feats] - df[num_feats].mean())/df[num_feats].std()"
   ]
  },
  {
   "cell_type": "code",
   "execution_count": 417,
   "metadata": {
    "collapsed": false
   },
   "outputs": [
    {
     "data": {
      "text/plain": [
       "(2915, 297)"
      ]
     },
     "execution_count": 417,
     "metadata": {},
     "output_type": "execute_result"
    }
   ],
   "source": [
    "# one hot encode\n",
    "df = pd.get_dummies(df,drop_first=False)\n",
    "df.shape"
   ]
  },
  {
   "cell_type": "code",
   "execution_count": 418,
   "metadata": {
    "collapsed": false
   },
   "outputs": [
    {
     "data": {
      "text/plain": [
       "(1456, 297)"
      ]
     },
     "execution_count": 418,
     "metadata": {},
     "output_type": "execute_result"
    }
   ],
   "source": [
    "x = df[:train.shape[0]]\n",
    "test = df[train.shape[0]:]\n",
    "x.shape"
   ]
  },
  {
   "cell_type": "code",
   "execution_count": 419,
   "metadata": {
    "collapsed": true
   },
   "outputs": [],
   "source": [
    "train_clean = x.copy()\n",
    "train_clean['SalePrice'] = y"
   ]
  },
  {
   "cell_type": "code",
   "execution_count": 41,
   "metadata": {
    "collapsed": true
   },
   "outputs": [],
   "source": [
    "#train_clean.to_csv('train_clean.csv', index =False) "
   ]
  },
  {
   "cell_type": "markdown",
   "metadata": {},
   "source": [
    "# Model Construction\n",
    "## So far the data cleaning is done (hope so > <..)  \n",
    "## The next step is feature engineering and model selection"
   ]
  },
  {
   "cell_type": "markdown",
   "metadata": {},
   "source": [
    "First, let's see the correlations among different variables."
   ]
  },
  {
   "cell_type": "code",
   "execution_count": 192,
   "metadata": {
    "collapsed": true
   },
   "outputs": [],
   "source": [
    "def rmse(y_true, y_pred):\n",
    "    return np.sqrt(mean_squared_error(y_true, y_pred))"
   ]
  },
  {
   "cell_type": "code",
   "execution_count": 193,
   "metadata": {
    "collapsed": false
   },
   "outputs": [],
   "source": [
    "num_feats.append('SalePrice')"
   ]
  },
  {
   "cell_type": "code",
   "execution_count": 194,
   "metadata": {
    "collapsed": false
   },
   "outputs": [
    {
     "data": {
      "text/plain": [
       "<matplotlib.axes._subplots.AxesSubplot at 0x11846b780>"
      ]
     },
     "execution_count": 194,
     "metadata": {},
     "output_type": "execute_result"
    },
    {
     "data": {
      "image/png": "[encoded data removed]",
      "text/plain": [
       "<matplotlib.figure.Figure at 0x11846d0b8>"
      ]
     },
     "metadata": {},
     "output_type": "display_data"
    }
   ],
   "source": [
    "corr = train_clean[num_feats].iloc[:, :].corr()\n",
    "plt.figure(figsize=(12, 12))\n",
    "sns.heatmap(corr, vmax=1, square=True)"
   ]
  },
  {
   "cell_type": "markdown",
   "metadata": {},
   "source": [
    "There are several things to note here:    \n",
    "1 GarageYrBlt and YearBuilt are highly correlated       \n",
    "2 GarageCars and GarageArea are highly correlated        \n",
    "3 TotRmsAbvGrd and GrLivArea are highly correlated    \n",
    "4 TotalSF and GrLivArea are highly correlated\n",
    "5 LotArea and LofFrontage are highly correlared\n",
    "    \n",
    "These findings are not suprising. Garage is usually built with the house; garage size determines how many cars can be park in; TotalRmsAbvGrd, TotalSF and GrLivArea are all measuring the size of the house.\n",
    "If we include all these variable into regression, multicollineraity may occur."
   ]
  },
  {
   "cell_type": "code",
   "execution_count": 195,
   "metadata": {
    "collapsed": false,
    "scrolled": false
   },
   "outputs": [
    {
     "data": {
      "text/plain": [
       "SalePrice               1.000000\n",
       "TotalSF                 0.814756\n",
       "GrLivArea               0.732807\n",
       "GarageCars              0.680408\n",
       "TotalBath               0.672929\n",
       "GarageArea              0.655212\n",
       "ExterQual_TA            0.596304\n",
       "YearBuilt               0.588977\n",
       "GarageFinish_Unf        0.575923\n",
       "YearRemodAdd            0.568986\n",
       "BsmtQual_TA             0.539359\n",
       "KitchenQual_TA          0.538949\n",
       "TotRmsAbvGrd            0.533446\n",
       "Foundation_PConc        0.531036\n",
       "ExterQual_Gd            0.513608\n",
       "GarageYrBlt             0.500812\n",
       "Fireplaces              0.487126\n",
       "HeatingQC_Ex            0.466697\n",
       "OpenPorchSF             0.460923\n",
       "BsmtQual_Ex             0.457864\n",
       "BsmtFinType1_GLQ        0.438213\n",
       "OverallQual_8           0.433495\n",
       "MasVnrArea              0.415830\n",
       "KitchenQual_Gd          0.415374\n",
       "GarageFinish_Fin        0.415369\n",
       "KitchenQual_Ex          0.406032\n",
       "LotArea                 0.400138\n",
       "MSSubClass_60           0.397094\n",
       "MasVnrType_None         0.391148\n",
       "GarageType_Detchd       0.389477\n",
       "                          ...   \n",
       "Exterior2nd_Stone       0.018310\n",
       "Neighborhood_Blueste    0.018304\n",
       "Condition1_RRAn         0.017647\n",
       "GarageQual_Ex           0.017617\n",
       "Functional_Sev          0.016843\n",
       "Exterior2nd_ImStucc     0.015092\n",
       "Exterior2nd_BrkFace     0.014730\n",
       "Foundation_Stone        0.014425\n",
       "Exterior1st_Plywood     0.013779\n",
       "Condition2_RRAn         0.012905\n",
       "RoofMatl_Roll           0.012859\n",
       "Condition1_RRNe         0.012794\n",
       "Utilities_AllPub        0.012618\n",
       "Utilities_NoSeWa        0.012618\n",
       "LandContour_Lvl         0.011672\n",
       "MSSubClass_75           0.011404\n",
       "ExterCond_Ex            0.011222\n",
       "HouseStyle_SLvl         0.010804\n",
       "RoofMatl_Tar&Grv        0.010166\n",
       "Foundation_Wood         0.009242\n",
       "Condition2_RRAe         0.008795\n",
       "LotConfig_Corner        0.006909\n",
       "RoofStyle_Mansard       0.006229\n",
       "LotConfig_FR2           0.005904\n",
       "GarageCond_Gd           0.005711\n",
       "RoofMatl_Metal          0.005215\n",
       "SaleType_ConLI          0.003400\n",
       "BsmtFinType2_GLQ        0.002893\n",
       "MSSubClass_80           0.000061\n",
       "MSSubClass_150               NaN\n",
       "Name: SalePrice, dtype: float64"
      ]
     },
     "execution_count": 195,
     "metadata": {},
     "output_type": "execute_result"
    }
   ],
   "source": [
    "# See the correlation with SalePrice\n",
    "np.abs(train_clean.corr()).sort_values(by = ['SalePrice'],ascending=False).SalePrice"
   ]
  },
  {
   "cell_type": "markdown",
   "metadata": {},
   "source": [
    "According to the heatmap, some variables are dependent on each other (strong correlation). Those variables which have less correlations with SalePrice will be removed. Those are \"GarageYrBlt\", \"GarageArea\", and \"TotRmsAbvGrd\""
   ]
  },
  {
   "cell_type": "markdown",
   "metadata": {},
   "source": [
    "## Random Forest"
   ]
  },
  {
   "cell_type": "code",
   "execution_count": 326,
   "metadata": {
    "collapsed": true
   },
   "outputs": [],
   "source": [
    "from sklearn.model_selection import KFold\n",
    "kf = KFold(5, shuffle=True, random_state= 42)"
   ]
  },
  {
   "cell_type": "code",
   "execution_count": 323,
   "metadata": {
    "collapsed": false
   },
   "outputs": [],
   "source": [
    "l = [0.0 for feature in range(x.shape[1])]\n",
    "feature_importance = np.array(l)"
   ]
  },
  {
   "cell_type": "code",
   "execution_count": 329,
   "metadata": {
    "collapsed": false
   },
   "outputs": [],
   "source": [
    "# Run Random Forests are 5-folds and average the feature importane score for each feature\n",
    "names = x_train.columns\n",
    "\n",
    "for train_index, test_index in kf.split(x):\n",
    "    rf = RandomForestRegressor()\n",
    "    rf.fit(x.iloc[train_index],y.iloc[train_index])\n",
    "    feature_importance += rf.feature_importances_\n",
    "    \n",
    "feature_importance = feature_importance/5\n",
    "feature_rank = sorted(zip(map(lambda x: round(x, 4), feature_importance), names),reverse=True)\n",
    "features = [feature[1] for feature in feature_rank if feature[0] > 0] "
   ]
  },
  {
   "cell_type": "code",
   "execution_count": 330,
   "metadata": {
    "collapsed": false
   },
   "outputs": [
    {
     "data": {
      "text/plain": [
       "[(0.77280000000000004, 'TotalSF'),\n",
       " (0.043900000000000002, 'YearBuilt'),\n",
       " (0.043200000000000002, 'ExterQual_TA'),\n",
       " (0.029899999999999999, 'YearRemodAdd'),\n",
       " (0.029899999999999999, 'GarageArea'),\n",
       " (0.023199999999999998, 'TotalBath'),\n",
       " (0.0178, 'GarageCars'),\n",
       " (0.015900000000000001, 'KitchenQual_TA'),\n",
       " (0.015800000000000002, 'GrLivArea'),\n",
       " (0.015699999999999999, 'LotArea'),\n",
       " (0.0112, 'BsmtFinSF1'),\n",
       " (0.010699999999999999, 'CentralAir_Y'),\n",
       " (0.0097000000000000003, 'GarageYrBlt'),\n",
       " (0.0094999999999999998, 'BsmtUnfSF'),\n",
       " (0.0085000000000000006, 'CentralAir_N'),\n",
       " (0.0067000000000000002, 'Fireplaces'),\n",
       " (0.0055999999999999999, 'KitchenAbvGr'),\n",
       " (0.0053, 'LotFrontage'),\n",
       " (0.0044000000000000003, 'MSZoning_C (all)'),\n",
       " (0.0041999999999999997, 'OpenPorchSF'),\n",
       " (0.0041000000000000003, 'BsmtQual_Ex'),\n",
       " (0.0028999999999999998, 'OverallCond_3'),\n",
       " (0.0028, 'OverallQual_5'),\n",
       " (0.0027000000000000001, 'WoodDeckSF'),\n",
       " (0.0027000000000000001, 'TotRmsAbvGrd'),\n",
       " (0.0027000000000000001, 'MasVnrArea'),\n",
       " (0.0023999999999999998, 'Functional_Typ'),\n",
       " (0.0023, 'OverallQual_8'),\n",
       " (0.0023, 'Neighborhood_Crawfor'),\n",
       " (0.0023, 'KitchenQual_Ex'),\n",
       " (0.0023, 'EnclosedPorch'),\n",
       " (0.0020999999999999999, 'YrSold'),\n",
       " (0.0020999999999999999, 'BedroomAbvGr'),\n",
       " (0.0018, 'OverallQual_4'),\n",
       " (0.0018, 'BsmtQual_TA'),\n",
       " (0.0016000000000000001, 'SaleCondition_Abnorml'),\n",
       " (0.0016000000000000001, 'OverallQual_6'),\n",
       " (0.0016000000000000001, 'OverallCond_4'),\n",
       " (0.0016000000000000001, 'Neighborhood_OldTown'),\n",
       " (0.0016000000000000001, 'KitchenQual_Gd'),\n",
       " (0.0016000000000000001, 'ExterCond_Fa'),\n",
       " (0.0015, 'OverallQual_7'),\n",
       " (0.0014, 'SaleCondition_Family'),\n",
       " (0.0014, 'HeatingQC_Fa'),\n",
       " (0.0014, 'GarageFinish_Unf'),\n",
       " (0.0012999999999999999, 'SaleCondition_Normal'),\n",
       " (0.0012999999999999999, 'MSZoning_RL'),\n",
       " (0.0012999999999999999, 'KitchenQual_Fa'),\n",
       " (0.0012999999999999999, 'GarageType_Detchd'),\n",
       " (0.0011999999999999999, 'MSSubClass_30'),\n",
       " (0.0011000000000000001, 'PavedDrive_N'),\n",
       " (0.0011000000000000001, 'ExterQual_Ex'),\n",
       " (0.001, 'MSZoning_RM'),\n",
       " (0.001, 'BsmtExposure_No'),\n",
       " (0.00089999999999999998, 'OverallQual_3'),\n",
       " (0.00089999999999999998, 'OverallCond_7'),\n",
       " (0.00089999999999999998, 'HouseStyle_2Story'),\n",
       " (0.00089999999999999998, 'GarageType_Attchd'),\n",
       " (0.00089999999999999998, 'BsmtQual_Gd'),\n",
       " (0.00089999999999999998, 'BldgType_1Fam'),\n",
       " (0.00080000000000000004, 'ScreenPorch'),\n",
       " (0.00080000000000000004, 'OverallCond_6'),\n",
       " (0.00080000000000000004, 'Neighborhood_Edwards'),\n",
       " (0.00080000000000000004, 'LandSlope_Gtl'),\n",
       " (0.00080000000000000004, 'Functional_Maj2'),\n",
       " (0.00080000000000000004, 'Exterior2nd_VinylSd'),\n",
       " (0.00080000000000000004, 'BsmtFinType1_GLQ'),\n",
       " (0.00069999999999999999, 'PavedDrive_Y'),\n",
       " (0.00069999999999999999, 'OverallCond_5'),\n",
       " (0.00069999999999999999, 'MSSubClass_20'),\n",
       " (0.00069999999999999999, 'LotShape_Reg'),\n",
       " (0.00069999999999999999, 'HeatingQC_TA'),\n",
       " (0.00069999999999999999, 'HeatingQC_Ex'),\n",
       " (0.00069999999999999999, 'GarageFinish_Fin'),\n",
       " (0.00069999999999999999, 'Exterior1st_VinylSd'),\n",
       " (0.00069999999999999999, 'BsmtCond_Fa'),\n",
       " (0.00059999999999999995, 'OverallQual_9'),\n",
       " (0.00059999999999999995, 'MoSold_Summer'),\n",
       " (0.00059999999999999995, 'MSSubClass_60'),\n",
       " (0.00059999999999999995, 'LotConfig_Inside'),\n",
       " (0.00059999999999999995, 'LandContour_HLS'),\n",
       " (0.00059999999999999995, 'Functional_Mod'),\n",
       " (0.00059999999999999995, 'Foundation_PConc'),\n",
       " (0.00059999999999999995, 'BsmtFinType2_BLQ'),\n",
       " (0.00059999999999999995, 'BsmtFinType1_ALQ'),\n",
       " (0.00059999999999999995, 'BsmtExposure_Gd'),\n",
       " (0.00050000000000000001, 'SaleType_WD'),\n",
       " (0.00050000000000000001, 'RoofStyle_Gable'),\n",
       " (0.00050000000000000001, 'Neighborhood_NAmes'),\n",
       " (0.00050000000000000001, 'Neighborhood_IDOTRR'),\n",
       " (0.00050000000000000001, 'MoSold_Winter'),\n",
       " (0.00050000000000000001, 'MasVnrType_BrkFace'),\n",
       " (0.00050000000000000001, 'LandContour_Lvl'),\n",
       " (0.00050000000000000001, 'HouseStyle_1.5Fin'),\n",
       " (0.00050000000000000001, 'Exterior1st_Wd Sdng'),\n",
       " (0.00050000000000000001, 'Exterior1st_BrkFace'),\n",
       " (0.00050000000000000001, 'Condition1_Artery'),\n",
       " (0.00050000000000000001, 'BsmtFinSF2'),\n",
       " (0.00040000000000000002, 'RoofStyle_Hip'),\n",
       " (0.00040000000000000002, 'RoofStyle_Gambrel'),\n",
       " (0.00040000000000000002, 'OverallQual_10'),\n",
       " (0.00040000000000000002, 'Neighborhood_Sawyer'),\n",
       " (0.00040000000000000002, 'MSSubClass_50'),\n",
       " (0.00040000000000000002, 'LotShape_IR1'),\n",
       " (0.00040000000000000002, 'LandSlope_Mod'),\n",
       " (0.00040000000000000002, 'GarageFinish_RFn'),\n",
       " (0.00040000000000000002, 'Functional_Min2'),\n",
       " (0.00040000000000000002, 'Foundation_CBlock'),\n",
       " (0.00040000000000000002, 'Exterior2nd_Brk Cmn'),\n",
       " (0.00040000000000000002, 'Exterior1st_BrkComm'),\n",
       " (0.00040000000000000002, 'ExterQual_Gd'),\n",
       " (0.00040000000000000002, 'Electrical_SBrkr'),\n",
       " (0.00040000000000000002, 'BsmtFinType1_Unf'),\n",
       " (0.00040000000000000002, 'BsmtExposure_Av'),\n",
       " (0.00040000000000000002, 'BsmtCond_TA'),\n",
       " (0.00040000000000000002, 'BldgType_Duplex'),\n",
       " (0.00029999999999999997, 'SaleType_New'),\n",
       " (0.00029999999999999997, 'SaleCondition_Partial'),\n",
       " (0.00029999999999999997, 'OverallCond_2'),\n",
       " (0.00029999999999999997, 'Neighborhood_StoneBr'),\n",
       " (0.00029999999999999997, 'Neighborhood_Somerst'),\n",
       " (0.00029999999999999997, 'Neighborhood_CollgCr'),\n",
       " (0.00029999999999999997, 'Neighborhood_BrkSide'),\n",
       " (0.00029999999999999997, 'MasVnrType_None'),\n",
       " (0.00029999999999999997, 'MSSubClass_90'),\n",
       " (0.00029999999999999997, 'MSSubClass_70'),\n",
       " (0.00029999999999999997, 'LotConfig_Corner'),\n",
       " (0.00029999999999999997, 'LandContour_Low'),\n",
       " (0.00029999999999999997, 'HouseStyle_1Story'),\n",
       " (0.00029999999999999997, 'HeatingQC_Gd'),\n",
       " (0.00029999999999999997, 'GarageQual_TA'),\n",
       " (0.00029999999999999997, 'GarageCond_TA'),\n",
       " (0.00029999999999999997, 'Functional_Maj1'),\n",
       " (0.00029999999999999997, 'Foundation_BrkTil'),\n",
       " (0.00029999999999999997, 'Exterior2nd_Wd Sdng'),\n",
       " (0.00029999999999999997, 'Exterior2nd_BrkFace'),\n",
       " (0.00029999999999999997, 'ExterCond_TA'),\n",
       " (0.00029999999999999997, 'ExterCond_Gd'),\n",
       " (0.00029999999999999997, 'Condition1_Norm'),\n",
       " (0.00029999999999999997, 'BsmtExposure_Mn'),\n",
       " (0.00020000000000000001, 'SaleType_COD'),\n",
       " (0.00020000000000000001, 'OverallCond_8'),\n",
       " (0.00020000000000000001, 'Neighborhood_NWAmes'),\n",
       " (0.00020000000000000001, 'Neighborhood_MeadowV'),\n",
       " (0.00020000000000000001, 'MiscVal'),\n",
       " (0.00020000000000000001, 'MasVnrType_Stone'),\n",
       " (0.00020000000000000001, 'MasVnrType_BrkCmn'),\n",
       " (0.00020000000000000001, 'MSSubClass_80'),\n",
       " (0.00020000000000000001, 'LandContour_Bnk'),\n",
       " (0.00020000000000000001, 'GarageType_BuiltIn'),\n",
       " (0.00020000000000000001, 'GarageQual_Fa'),\n",
       " (0.00020000000000000001, 'GarageCond_Fa'),\n",
       " (0.00020000000000000001, 'Exterior2nd_Stucco'),\n",
       " (0.00020000000000000001, 'Exterior2nd_Plywood'),\n",
       " (0.00020000000000000001, 'Exterior2nd_MetalSd'),\n",
       " (0.00020000000000000001, 'Exterior2nd_HdBoard'),\n",
       " (0.00020000000000000001, 'Exterior1st_Plywood'),\n",
       " (0.00020000000000000001, 'Exterior1st_MetalSd'),\n",
       " (0.00020000000000000001, 'ExterQual_Fa'),\n",
       " (0.00020000000000000001, 'Electrical_FuseF'),\n",
       " (0.00020000000000000001, 'BsmtQual_Fa'),\n",
       " (0.00020000000000000001, 'BsmtFinType1_Rec'),\n",
       " (0.00020000000000000001, 'BsmtFinType1_LwQ'),\n",
       " (0.00020000000000000001, 'BsmtFinType1_BLQ'),\n",
       " (0.0001, 'Street_Pave'),\n",
       " (0.0001, 'Street_Grvl'),\n",
       " (0.0001, 'SaleType_ConLD'),\n",
       " (0.0001, 'SaleType_CWD'),\n",
       " (0.0001, 'SaleCondition_Alloca'),\n",
       " (0.0001, 'RoofStyle_Flat'),\n",
       " (0.0001, 'RoofMatl_CompShg'),\n",
       " (0.0001, 'OverallCond_9'),\n",
       " (0.0001, 'Neighborhood_SawyerW'),\n",
       " (0.0001, 'Neighborhood_SWISU'),\n",
       " (0.0001, 'Neighborhood_NridgHt'),\n",
       " (0.0001, 'Neighborhood_Mitchel'),\n",
       " (0.0001, 'Neighborhood_Gilbert'),\n",
       " (0.0001, 'Neighborhood_ClearCr'),\n",
       " (0.0001, 'Neighborhood_BrDale'),\n",
       " (0.0001, 'MSSubClass_190'),\n",
       " (0.0001, 'LowQualFinSF'),\n",
       " (0.0001, 'LotShape_IR2'),\n",
       " (0.0001, 'LotConfig_FR2'),\n",
       " (0.0001, 'LotConfig_CulDSac'),\n",
       " (0.0001, 'HouseStyle_SLvl'),\n",
       " (0.0001, 'Heating_Wall'),\n",
       " (0.0001, 'Heating_Grav'),\n",
       " (0.0001, 'Heating_GasA'),\n",
       " (0.0001, 'GarageType_CarPort'),\n",
       " (0.0001, 'GarageQual_Po'),\n",
       " (0.0001, 'Exterior2nd_CmentBd'),\n",
       " (0.0001, 'Exterior1st_WdShing'),\n",
       " (0.0001, 'Exterior1st_Stucco'),\n",
       " (0.0001, 'Exterior1st_HdBoard'),\n",
       " (0.0001, 'Exterior1st_CemntBd'),\n",
       " (0.0001, 'Exterior1st_AsbShng'),\n",
       " (0.0001, 'Electrical_FuseA'),\n",
       " (0.0001, 'Condition1_RRAe'),\n",
       " (0.0001, 'Condition1_Feedr'),\n",
       " (0.0001, 'BsmtFinType2_Unf'),\n",
       " (0.0001, 'BsmtFinType2_Rec'),\n",
       " (0.0001, 'BldgType_2fmCon'),\n",
       " (0.0001, '3SsnPorch'),\n",
       " (0.0, 'Utilities_NoSeWa'),\n",
       " (0.0, 'Utilities_AllPub'),\n",
       " (0.0, 'SaleType_Oth'),\n",
       " (0.0, 'SaleType_ConLw'),\n",
       " (0.0, 'SaleType_ConLI'),\n",
       " (0.0, 'SaleType_Con'),\n",
       " (0.0, 'SaleCondition_AdjLand'),\n",
       " (0.0, 'RoofStyle_Shed'),\n",
       " (0.0, 'RoofStyle_Mansard'),\n",
       " (0.0, 'RoofMatl_WdShngl'),\n",
       " (0.0, 'RoofMatl_WdShake'),\n",
       " (0.0, 'RoofMatl_Tar&Grv'),\n",
       " (0.0, 'RoofMatl_Roll'),\n",
       " (0.0, 'RoofMatl_Metal'),\n",
       " (0.0, 'RoofMatl_Membran'),\n",
       " (0.0, 'PoolArea'),\n",
       " (0.0, 'PavedDrive_P'),\n",
       " (0.0, 'OverallQual_2'),\n",
       " (0.0, 'OverallQual_1'),\n",
       " (0.0, 'OverallCond_1'),\n",
       " (0.0, 'Neighborhood_Veenker'),\n",
       " (0.0, 'Neighborhood_Timber'),\n",
       " (0.0, 'Neighborhood_NoRidge'),\n",
       " (0.0, 'Neighborhood_NPkVill'),\n",
       " (0.0, 'Neighborhood_Blueste'),\n",
       " (0.0, 'Neighborhood_Blmngtn'),\n",
       " (0.0, 'MSZoning_RH'),\n",
       " (0.0, 'MSZoning_FV'),\n",
       " (0.0, 'MSSubClass_85'),\n",
       " (0.0, 'MSSubClass_75'),\n",
       " (0.0, 'MSSubClass_45'),\n",
       " (0.0, 'MSSubClass_40'),\n",
       " (0.0, 'MSSubClass_180'),\n",
       " (0.0, 'MSSubClass_160'),\n",
       " (0.0, 'MSSubClass_150'),\n",
       " (0.0, 'MSSubClass_120'),\n",
       " (0.0, 'LotShape_IR3'),\n",
       " (0.0, 'LotConfig_FR3'),\n",
       " (0.0, 'LandSlope_Sev'),\n",
       " (0.0, 'HouseStyle_SFoyer'),\n",
       " (0.0, 'HouseStyle_2.5Unf'),\n",
       " (0.0, 'HouseStyle_2.5Fin'),\n",
       " (0.0, 'HouseStyle_1.5Unf'),\n",
       " (0.0, 'Heating_OthW'),\n",
       " (0.0, 'Heating_GasW'),\n",
       " (0.0, 'Heating_Floor'),\n",
       " (0.0, 'HeatingQC_Po'),\n",
       " (0.0, 'GarageType_Basment'),\n",
       " (0.0, 'GarageType_2Types'),\n",
       " (0.0, 'GarageQual_Gd'),\n",
       " (0.0, 'GarageQual_Ex'),\n",
       " (0.0, 'GarageCond_Po'),\n",
       " (0.0, 'GarageCond_Gd'),\n",
       " (0.0, 'GarageCond_Ex'),\n",
       " (0.0, 'Functional_Sev'),\n",
       " (0.0, 'Functional_Min1'),\n",
       " (0.0, 'Foundation_Wood'),\n",
       " (0.0, 'Foundation_Stone'),\n",
       " (0.0, 'Foundation_Slab'),\n",
       " (0.0, 'Exterior2nd_Wd Shng'),\n",
       " (0.0, 'Exterior2nd_Stone'),\n",
       " (0.0, 'Exterior2nd_Other'),\n",
       " (0.0, 'Exterior2nd_ImStucc'),\n",
       " (0.0, 'Exterior2nd_CBlock'),\n",
       " (0.0, 'Exterior2nd_AsphShn'),\n",
       " (0.0, 'Exterior2nd_AsbShng'),\n",
       " (0.0, 'Exterior1st_Stone'),\n",
       " (0.0, 'Exterior1st_ImStucc'),\n",
       " (0.0, 'Exterior1st_CBlock'),\n",
       " (0.0, 'Exterior1st_AsphShn'),\n",
       " (0.0, 'ExterCond_Po'),\n",
       " (0.0, 'ExterCond_Ex'),\n",
       " (0.0, 'Electrical_Mix'),\n",
       " (0.0, 'Electrical_FuseP'),\n",
       " (0.0, 'Condition2_RRNn'),\n",
       " (0.0, 'Condition2_RRAn'),\n",
       " (0.0, 'Condition2_RRAe'),\n",
       " (0.0, 'Condition2_PosN'),\n",
       " (0.0, 'Condition2_PosA'),\n",
       " (0.0, 'Condition2_Norm'),\n",
       " (0.0, 'Condition2_Feedr'),\n",
       " (0.0, 'Condition2_Artery'),\n",
       " (0.0, 'Condition1_RRNn'),\n",
       " (0.0, 'Condition1_RRNe'),\n",
       " (0.0, 'Condition1_RRAn'),\n",
       " (0.0, 'Condition1_PosN'),\n",
       " (0.0, 'Condition1_PosA'),\n",
       " (0.0, 'BsmtFinType2_LwQ'),\n",
       " (0.0, 'BsmtFinType2_GLQ'),\n",
       " (0.0, 'BsmtFinType2_ALQ'),\n",
       " (0.0, 'BsmtCond_Po'),\n",
       " (0.0, 'BsmtCond_Gd'),\n",
       " (0.0, 'BldgType_TwnhsE'),\n",
       " (0.0, 'BldgType_Twnhs')]"
      ]
     },
     "execution_count": 330,
     "metadata": {},
     "output_type": "execute_result"
    }
   ],
   "source": [
    "feature_rank"
   ]
  },
  {
   "cell_type": "code",
   "execution_count": 339,
   "metadata": {
    "collapsed": false
   },
   "outputs": [
    {
     "name": "stdout",
     "output_type": "stream",
     "text": [
      "Feature Importance > 0:203\n",
      "All features: 297\n"
     ]
    }
   ],
   "source": [
    "print('Feature Importance > 0:' + str(len(features)))\n",
    "print('All features: '+ str(x_train.shape[1]))"
   ]
  },
  {
   "cell_type": "markdown",
   "metadata": {
    "collapsed": false
   },
   "source": [
    "Basically many features have 0 feature_importance in Random Forest. It suggest that those may be noise."
   ]
  },
  {
   "cell_type": "code",
   "execution_count": 341,
   "metadata": {
    "collapsed": true
   },
   "outputs": [],
   "source": [
    "# Drop these highly correlaed features \n",
    "features.remove(\"GarageYrBlt\")\n",
    "features.remove(\"GarageArea\")\n",
    "features.remove(\"TotRmsAbvGrd\")"
   ]
  },
  {
   "cell_type": "code",
   "execution_count": 350,
   "metadata": {
    "collapsed": false
   },
   "outputs": [
    {
     "name": "stdout",
     "output_type": "stream",
     "text": [
      "(1456, 297)\n",
      "(1456, 200)\n"
     ]
    }
   ],
   "source": [
    "x2 = x[features]\n",
    "test2 = x[features]\n",
    "print(x.shape)\n",
    "print(x2.shape)"
   ]
  },
  {
   "cell_type": "code",
   "execution_count": 346,
   "metadata": {
    "collapsed": false
   },
   "outputs": [
    {
     "name": "stdout",
     "output_type": "stream",
     "text": [
      "0.147910604962\n"
     ]
    }
   ],
   "source": [
    "rf = RandomForestRegressor(random_state=42)\n",
    "scorer = 'mean_squared_error'\n",
    "cv_scores = cross_val_score(rf, x, y, cv = 5, scoring = scorer)\n",
    "print(np.sqrt(-cv_scores).mean())"
   ]
  },
  {
   "cell_type": "code",
   "execution_count": 420,
   "metadata": {
    "collapsed": false
   },
   "outputs": [
    {
     "name": "stdout",
     "output_type": "stream",
     "text": [
      "0.14785110277\n"
     ]
    }
   ],
   "source": [
    "cv_scores = cross_val_score(rf, x2, y, cv = 5, scoring = scorer)\n",
    "print(np.sqrt(-cv_scores).mean())"
   ]
  },
  {
   "cell_type": "markdown",
   "metadata": {},
   "source": [
    "Without any tune parameter, the RMSLE of RF is around 0.15. Not good."
   ]
  },
  {
   "cell_type": "code",
   "execution_count": 349,
   "metadata": {
    "collapsed": true
   },
   "outputs": [],
   "source": [
    "# Put different models' predictions on test set to a dataframe\n",
    "rf.fit(x,y)\n",
    "RandomForests = rf.predict(test)\n",
    "performance = pd.DataFrame(RandomForests)\n",
    "performance.columns = ['RandomForests']"
   ]
  },
  {
   "cell_type": "markdown",
   "metadata": {},
   "source": [
    "## Support Vector Machine Regression"
   ]
  },
  {
   "cell_type": "code",
   "execution_count": 353,
   "metadata": {
    "collapsed": false
   },
   "outputs": [
    {
     "name": "stdout",
     "output_type": "stream",
     "text": [
      "0.136103192949\n"
     ]
    }
   ],
   "source": [
    "from sklearn.svm import SVR\n",
    "svr = SVR(C=1.0, epsilon=0.2)\n",
    "cv_scores = cross_val_score(svr, x, y, cv = 5, scoring = scorer)\n",
    "print(np.sqrt(-cv_scores).mean())"
   ]
  },
  {
   "cell_type": "code",
   "execution_count": 352,
   "metadata": {
    "collapsed": false
   },
   "outputs": [
    {
     "name": "stdout",
     "output_type": "stream",
     "text": [
      "0.137131572687\n"
     ]
    }
   ],
   "source": [
    "cv_scores = cross_val_score(svr, x2, y, cv = 5, scoring = scorer)\n",
    "print(np.sqrt(-cv_scores).mean())"
   ]
  },
  {
   "cell_type": "code",
   "execution_count": 431,
   "metadata": {
    "collapsed": false
   },
   "outputs": [],
   "source": [
    "svr.fit(x, y)\n",
    "SupportVectorReg = svr.predict(test)\n",
    "performance['SupportVectorReg'] = SupportVectorReg"
   ]
  },
  {
   "cell_type": "markdown",
   "metadata": {},
   "source": [
    "## Ridge Regression"
   ]
  },
  {
   "cell_type": "code",
   "execution_count": 357,
   "metadata": {
    "collapsed": false
   },
   "outputs": [
    {
     "name": "stdout",
     "output_type": "stream",
     "text": [
      "5\n",
      "0.112215972614\n"
     ]
    }
   ],
   "source": [
    "ridge = RidgeCV(alphas = [0.05, 0.1, 0.3, 1, 3, 5, 10, 15, 30, 50, 75], cv = 10)\n",
    "ridge.fit(x, y)\n",
    "print(ridge.alpha_)\n",
    "cv_scores = cross_val_score(ridge, x, y, cv = 5, scoring = 'mean_squared_error')\n",
    "print(np.sqrt(-cv_scores).mean())"
   ]
  },
  {
   "cell_type": "code",
   "execution_count": 358,
   "metadata": {
    "collapsed": false
   },
   "outputs": [
    {
     "name": "stdout",
     "output_type": "stream",
     "text": [
      "0.111525946257\n"
     ]
    }
   ],
   "source": [
    "cv_scores = cross_val_score(ridge, x2, y, cv = 5, scoring = 'mean_squared_error')\n",
    "print(np.sqrt(-cv_scores).mean())"
   ]
  },
  {
   "cell_type": "code",
   "execution_count": 359,
   "metadata": {
    "collapsed": true
   },
   "outputs": [],
   "source": [
    "ridge.fit(x, y)\n",
    "RidgeRegression = lasso.predict(test)\n",
    "performance['RidgeRegression'] = RidgeRegression"
   ]
  },
  {
   "cell_type": "markdown",
   "metadata": {},
   "source": [
    "## Lasso Regression"
   ]
  },
  {
   "cell_type": "code",
   "execution_count": 360,
   "metadata": {
    "collapsed": false
   },
   "outputs": [
    {
     "name": "stdout",
     "output_type": "stream",
     "text": [
      "Lasso picked 140 features and eliminated the other 157 features\n"
     ]
    },
    {
     "data": {
      "image/png": "[encoded data removed]",
      "text/plain": [
       "<matplotlib.figure.Figure at 0x11cdb7a58>"
      ]
     },
     "metadata": {},
     "output_type": "display_data"
    }
   ],
   "source": [
    "lasso = LassoCV(alphas = [0.0001, 0.0003, 0.0006, 0.001, 0.003, 0.006, 0.01, 0.03, 0.06, 0.1, \n",
    "                          0.3, 0.6, 1], \n",
    "                max_iter = 50000, cv = 10)\n",
    "lasso.fit(x, y)\n",
    "coefs = pd.Series(lasso.coef_, index = x.columns)\n",
    "print(\"Lasso picked \" + str(sum(coefs != 0)) + \" features and eliminated the other \" +  \\\n",
    "      str(sum(coefs == 0)) + \" features\")\n",
    "imp_coefs = pd.concat([coefs.sort_values().head(10),\n",
    "                     coefs.sort_values().tail(10)])\n",
    "imp_coefs.plot(kind = \"barh\")\n",
    "plt.title(\"Coefficients in the Lasso Model\")\n",
    "plt.show()"
   ]
  },
  {
   "cell_type": "code",
   "execution_count": 361,
   "metadata": {
    "collapsed": false
   },
   "outputs": [
    {
     "data": {
      "text/plain": [
       "0.00029999999999999997"
      ]
     },
     "execution_count": 361,
     "metadata": {},
     "output_type": "execute_result"
    }
   ],
   "source": [
    "lasso.alpha_"
   ]
  },
  {
   "cell_type": "code",
   "execution_count": 362,
   "metadata": {
    "collapsed": false
   },
   "outputs": [
    {
     "name": "stdout",
     "output_type": "stream",
     "text": [
      "0.110146968292\n"
     ]
    }
   ],
   "source": [
    "cv_scores = cross_val_score(lasso, x, y, cv = 5, scoring = 'mean_squared_error')\n",
    "print(np.sqrt(-cv_scores).mean())"
   ]
  },
  {
   "cell_type": "code",
   "execution_count": 363,
   "metadata": {
    "collapsed": false
   },
   "outputs": [
    {
     "name": "stdout",
     "output_type": "stream",
     "text": [
      "0.109887298486\n"
     ]
    }
   ],
   "source": [
    "cv_scores = cross_val_score(lasso, x2, y, cv = 5, scoring = 'mean_squared_error')\n",
    "print(np.sqrt(-cv_scores).mean())"
   ]
  },
  {
   "cell_type": "markdown",
   "metadata": {},
   "source": [
    "Lasso's score is pretty good!"
   ]
  },
  {
   "cell_type": "code",
   "execution_count": 364,
   "metadata": {
    "collapsed": true
   },
   "outputs": [],
   "source": [
    "lasso.fit(x, y)\n",
    "LassoRegression = lasso.predict(test)\n",
    "performance['LassoRegression'] = LassoRegression"
   ]
  },
  {
   "cell_type": "markdown",
   "metadata": {},
   "source": [
    "## Gradient Boosting"
   ]
  },
  {
   "cell_type": "code",
   "execution_count": 366,
   "metadata": {
    "collapsed": true
   },
   "outputs": [],
   "source": [
    "gbm = ensemble.GradientBoostingRegressor(n_estimators=3000, learning_rate=0.05, max_depth=3, max_features='sqrt',\n",
    "                                               min_samples_leaf=15, min_samples_split=10, loss='huber',random_state=42)"
   ]
  },
  {
   "cell_type": "code",
   "execution_count": 367,
   "metadata": {
    "collapsed": false
   },
   "outputs": [
    {
     "name": "stdout",
     "output_type": "stream",
     "text": [
      "0.116118692171\n"
     ]
    }
   ],
   "source": [
    "scorer = 'mean_squared_error'\n",
    "cv_scores = cross_val_score(gbm, x, y, cv = 5, scoring = scorer)\n",
    "print(np.sqrt(-cv_scores).mean())"
   ]
  },
  {
   "cell_type": "code",
   "execution_count": 368,
   "metadata": {
    "collapsed": false
   },
   "outputs": [
    {
     "name": "stdout",
     "output_type": "stream",
     "text": [
      "0.114476819266\n"
     ]
    }
   ],
   "source": [
    "cv_scores = cross_val_score(gbm, x2, y, cv = 5, scoring = scorer)\n",
    "print(np.sqrt(-cv_scores).mean())"
   ]
  },
  {
   "cell_type": "code",
   "execution_count": 369,
   "metadata": {
    "collapsed": true
   },
   "outputs": [],
   "source": [
    "gbm.fit(x, y)\n",
    "GradientBoosting = gbm.predict(test)\n",
    "performance['GradientBoosting'] = GradientBoosting"
   ]
  },
  {
   "cell_type": "markdown",
   "metadata": {},
   "source": [
    "## Elastic Net"
   ]
  },
  {
   "cell_type": "code",
   "execution_count": 371,
   "metadata": {
    "collapsed": false
   },
   "outputs": [
    {
     "data": {
      "text/plain": [
       "ElasticNetCV(alphas=[0.0001, 0.0005, 0.001, 0.01, 0.1, 1, 10], copy_X=True,\n",
       "       cv=None, eps=0.001, fit_intercept=True,\n",
       "       l1_ratio=[0.01, 0.1, 0.5, 0.9, 0.99], max_iter=5000, n_alphas=100,\n",
       "       n_jobs=1, normalize=False, positive=False, precompute='auto',\n",
       "       random_state=42, selection='cyclic', tol=0.0001, verbose=0)"
      ]
     },
     "execution_count": 371,
     "metadata": {},
     "output_type": "execute_result"
    }
   ],
   "source": [
    "EN = linear_model.ElasticNetCV(alphas=[0.0001, 0.0005, 0.001, 0.01, 0.1, 1, 10], \n",
    "                                    l1_ratio=[.01, .1, .5, .9, .99], max_iter=5000,random_state = 42)\n",
    "EN.fit(x,y)"
   ]
  },
  {
   "cell_type": "code",
   "execution_count": 372,
   "metadata": {
    "collapsed": false
   },
   "outputs": [
    {
     "name": "stdout",
     "output_type": "stream",
     "text": [
      "0.0005\n",
      "0.5\n"
     ]
    }
   ],
   "source": [
    "print(EN.alpha_)\n",
    "print(EN.l1_ratio_)"
   ]
  },
  {
   "cell_type": "code",
   "execution_count": 373,
   "metadata": {
    "collapsed": false
   },
   "outputs": [
    {
     "name": "stdout",
     "output_type": "stream",
     "text": [
      "0.110040786724\n"
     ]
    }
   ],
   "source": [
    "cv_scores = cross_val_score(EN, x, y, cv = 5, scoring = scorer)\n",
    "print(np.sqrt(-cv_scores).mean())"
   ]
  },
  {
   "cell_type": "code",
   "execution_count": 374,
   "metadata": {
    "collapsed": false
   },
   "outputs": [
    {
     "name": "stdout",
     "output_type": "stream",
     "text": [
      "0.110363311158\n"
     ]
    }
   ],
   "source": [
    "cv_scores = cross_val_score(EN, x2, y, cv = 5, scoring = scorer)\n",
    "print(np.sqrt(-cv_scores).mean())"
   ]
  },
  {
   "cell_type": "code",
   "execution_count": 376,
   "metadata": {
    "collapsed": false
   },
   "outputs": [],
   "source": [
    "EN.fit(x, y)\n",
    "ElasticNet = EN.predict(test)\n",
    "performance['ElasticNet'] = ElasticNet"
   ]
  },
  {
   "cell_type": "markdown",
   "metadata": {},
   "source": [
    "### Adaboost"
   ]
  },
  {
   "cell_type": "code",
   "execution_count": 425,
   "metadata": {
    "collapsed": false
   },
   "outputs": [
    {
     "name": "stdout",
     "output_type": "stream",
     "text": [
      "0.176612957177\n"
     ]
    }
   ],
   "source": [
    "from sklearn.ensemble import AdaBoostRegressor\n",
    "from sklearn.tree import DecisionTreeRegressor\n",
    "\n",
    "adb = AdaBoostRegressor(DecisionTreeRegressor(max_depth = 3), n_estimators = 3000, random_state = 42)\n",
    "cv_scores = cross_val_score(adb, x, y, cv = 5, scoring = scorer)\n",
    "print(np.sqrt(-cv_scores).mean())"
   ]
  },
  {
   "cell_type": "code",
   "execution_count": 423,
   "metadata": {
    "collapsed": false
   },
   "outputs": [
    {
     "name": "stdout",
     "output_type": "stream",
     "text": [
      "0.178416284447\n"
     ]
    }
   ],
   "source": [
    "cv_scores = cross_val_score(adb, x2, y, cv = 5, scoring = scorer)\n",
    "print(np.sqrt(-cv_scores).mean())"
   ]
  },
  {
   "cell_type": "code",
   "execution_count": 428,
   "metadata": {
    "collapsed": true
   },
   "outputs": [],
   "source": [
    "adb.fit(x, y)\n",
    "AdaBoost = adb.predict(test)\n",
    "performance['AdaBoost'] = AdaBoost"
   ]
  },
  {
   "cell_type": "code",
   "execution_count": 432,
   "metadata": {
    "collapsed": false
   },
   "outputs": [
    {
     "data": {
      "text/html": [
       "<div>\n",
       "<table border=\"1\" class=\"dataframe\">\n",
       "  <thead>\n",
       "    <tr style=\"text-align: right;\">\n",
       "      <th></th>\n",
       "      <th>RandomForests</th>\n",
       "      <th>SupportVectorReg</th>\n",
       "      <th>RidgeRegression</th>\n",
       "      <th>LassoRegression</th>\n",
       "      <th>GradientBoosting</th>\n",
       "      <th>ElasticNet</th>\n",
       "      <th>AdaBoost</th>\n",
       "    </tr>\n",
       "  </thead>\n",
       "  <tbody>\n",
       "    <tr>\n",
       "      <th>0</th>\n",
       "      <td>11.674136</td>\n",
       "      <td>11.688616</td>\n",
       "      <td>11.658351</td>\n",
       "      <td>11.702716</td>\n",
       "      <td>11.744739</td>\n",
       "      <td>11.705908</td>\n",
       "      <td>11.571327</td>\n",
       "    </tr>\n",
       "    <tr>\n",
       "      <th>1</th>\n",
       "      <td>11.958763</td>\n",
       "      <td>11.870262</td>\n",
       "      <td>11.952411</td>\n",
       "      <td>11.923271</td>\n",
       "      <td>11.950524</td>\n",
       "      <td>11.924464</td>\n",
       "      <td>11.775854</td>\n",
       "    </tr>\n",
       "    <tr>\n",
       "      <th>2</th>\n",
       "      <td>12.200603</td>\n",
       "      <td>12.147960</td>\n",
       "      <td>12.149480</td>\n",
       "      <td>12.129524</td>\n",
       "      <td>12.182306</td>\n",
       "      <td>12.128130</td>\n",
       "      <td>12.018483</td>\n",
       "    </tr>\n",
       "    <tr>\n",
       "      <th>3</th>\n",
       "      <td>12.172871</td>\n",
       "      <td>12.232643</td>\n",
       "      <td>12.201785</td>\n",
       "      <td>12.190972</td>\n",
       "      <td>12.210789</td>\n",
       "      <td>12.189378</td>\n",
       "      <td>12.125994</td>\n",
       "    </tr>\n",
       "    <tr>\n",
       "      <th>4</th>\n",
       "      <td>12.171486</td>\n",
       "      <td>12.117394</td>\n",
       "      <td>12.143982</td>\n",
       "      <td>12.190725</td>\n",
       "      <td>12.117605</td>\n",
       "      <td>12.191038</td>\n",
       "      <td>12.015636</td>\n",
       "    </tr>\n",
       "  </tbody>\n",
       "</table>\n",
       "</div>"
      ],
      "text/plain": [
       "   RandomForests  SupportVectorReg  RidgeRegression  LassoRegression  \\\n",
       "0      11.674136         11.688616        11.658351        11.702716   \n",
       "1      11.958763         11.870262        11.952411        11.923271   \n",
       "2      12.200603         12.147960        12.149480        12.129524   \n",
       "3      12.172871         12.232643        12.201785        12.190972   \n",
       "4      12.171486         12.117394        12.143982        12.190725   \n",
       "\n",
       "   GradientBoosting  ElasticNet   AdaBoost  \n",
       "0         11.744739   11.705908  11.571327  \n",
       "1         11.950524   11.924464  11.775854  \n",
       "2         12.182306   12.128130  12.018483  \n",
       "3         12.210789   12.189378  12.125994  \n",
       "4         12.117605   12.191038  12.015636  "
      ]
     },
     "execution_count": 432,
     "metadata": {},
     "output_type": "execute_result"
    }
   ],
   "source": [
    "performance.head()"
   ]
  },
  {
   "cell_type": "markdown",
   "metadata": {},
   "source": [
    "## Final Training and Prediction"
   ]
  },
  {
   "cell_type": "markdown",
   "metadata": {},
   "source": [
    "Now we have performance dataframe which contains the predictions from 5 different models. Based on the 5-fold cross validation on the training set, the rank is following:    \n",
    "ElasticNet > Lasso > Ridge > Gradient Boosting > SVR > Random Forests > Adaboost   \n",
    "\n",
    "Calculate the correlation for the purpose of emsemble."
   ]
  },
  {
   "cell_type": "code",
   "execution_count": 433,
   "metadata": {
    "collapsed": false
   },
   "outputs": [
    {
     "data": {
      "text/html": [
       "<div>\n",
       "<table border=\"1\" class=\"dataframe\">\n",
       "  <thead>\n",
       "    <tr style=\"text-align: right;\">\n",
       "      <th></th>\n",
       "      <th>RandomForests</th>\n",
       "      <th>SupportVectorReg</th>\n",
       "      <th>RidgeRegression</th>\n",
       "      <th>LassoRegression</th>\n",
       "      <th>GradientBoosting</th>\n",
       "      <th>ElasticNet</th>\n",
       "      <th>AdaBoost</th>\n",
       "    </tr>\n",
       "  </thead>\n",
       "  <tbody>\n",
       "    <tr>\n",
       "      <th>RandomForests</th>\n",
       "      <td>1.000000</td>\n",
       "      <td>0.963268</td>\n",
       "      <td>0.966031</td>\n",
       "      <td>0.963910</td>\n",
       "      <td>0.967243</td>\n",
       "      <td>0.963676</td>\n",
       "      <td>0.960928</td>\n",
       "    </tr>\n",
       "    <tr>\n",
       "      <th>SupportVectorReg</th>\n",
       "      <td>0.963268</td>\n",
       "      <td>1.000000</td>\n",
       "      <td>0.986048</td>\n",
       "      <td>0.981175</td>\n",
       "      <td>0.977988</td>\n",
       "      <td>0.981009</td>\n",
       "      <td>0.960486</td>\n",
       "    </tr>\n",
       "    <tr>\n",
       "      <th>RidgeRegression</th>\n",
       "      <td>0.966031</td>\n",
       "      <td>0.986048</td>\n",
       "      <td>1.000000</td>\n",
       "      <td>0.996812</td>\n",
       "      <td>0.988077</td>\n",
       "      <td>0.996730</td>\n",
       "      <td>0.954990</td>\n",
       "    </tr>\n",
       "    <tr>\n",
       "      <th>LassoRegression</th>\n",
       "      <td>0.963910</td>\n",
       "      <td>0.981175</td>\n",
       "      <td>0.996812</td>\n",
       "      <td>1.000000</td>\n",
       "      <td>0.987604</td>\n",
       "      <td>0.999965</td>\n",
       "      <td>0.948061</td>\n",
       "    </tr>\n",
       "    <tr>\n",
       "      <th>GradientBoosting</th>\n",
       "      <td>0.967243</td>\n",
       "      <td>0.977988</td>\n",
       "      <td>0.988077</td>\n",
       "      <td>0.987604</td>\n",
       "      <td>1.000000</td>\n",
       "      <td>0.987773</td>\n",
       "      <td>0.951425</td>\n",
       "    </tr>\n",
       "    <tr>\n",
       "      <th>ElasticNet</th>\n",
       "      <td>0.963676</td>\n",
       "      <td>0.981009</td>\n",
       "      <td>0.996730</td>\n",
       "      <td>0.999965</td>\n",
       "      <td>0.987773</td>\n",
       "      <td>1.000000</td>\n",
       "      <td>0.947697</td>\n",
       "    </tr>\n",
       "    <tr>\n",
       "      <th>AdaBoost</th>\n",
       "      <td>0.960928</td>\n",
       "      <td>0.960486</td>\n",
       "      <td>0.954990</td>\n",
       "      <td>0.948061</td>\n",
       "      <td>0.951425</td>\n",
       "      <td>0.947697</td>\n",
       "      <td>1.000000</td>\n",
       "    </tr>\n",
       "  </tbody>\n",
       "</table>\n",
       "</div>"
      ],
      "text/plain": [
       "                  RandomForests  SupportVectorReg  RidgeRegression  \\\n",
       "RandomForests          1.000000          0.963268         0.966031   \n",
       "SupportVectorReg       0.963268          1.000000         0.986048   \n",
       "RidgeRegression        0.966031          0.986048         1.000000   \n",
       "LassoRegression        0.963910          0.981175         0.996812   \n",
       "GradientBoosting       0.967243          0.977988         0.988077   \n",
       "ElasticNet             0.963676          0.981009         0.996730   \n",
       "AdaBoost               0.960928          0.960486         0.954990   \n",
       "\n",
       "                  LassoRegression  GradientBoosting  ElasticNet  AdaBoost  \n",
       "RandomForests            0.963910          0.967243    0.963676  0.960928  \n",
       "SupportVectorReg         0.981175          0.977988    0.981009  0.960486  \n",
       "RidgeRegression          0.996812          0.988077    0.996730  0.954990  \n",
       "LassoRegression          1.000000          0.987604    0.999965  0.948061  \n",
       "GradientBoosting         0.987604          1.000000    0.987773  0.951425  \n",
       "ElasticNet               0.999965          0.987773    1.000000  0.947697  \n",
       "AdaBoost                 0.948061          0.951425    0.947697  1.000000  "
      ]
     },
     "execution_count": 433,
     "metadata": {},
     "output_type": "execute_result"
    }
   ],
   "source": [
    "performance.corr()"
   ]
  },
  {
   "cell_type": "markdown",
   "metadata": {},
   "source": [
    "Basically, all models have very correlation with each other. The lowest is AdaBoost vs. ELasticNet but Adaboost doesn't perform well."
   ]
  },
  {
   "cell_type": "markdown",
   "metadata": {},
   "source": [
    "## Ensemble Learning: Stacking"
   ]
  },
  {
   "cell_type": "code",
   "execution_count": 444,
   "metadata": {
    "collapsed": false
   },
   "outputs": [
    {
     "data": {
      "text/html": [
       "<img src=\"http://7xlo8f.com1.z0.glb.clouddn.com/blog-diagram-stacking.jpg\"/>"
      ],
      "text/plain": [
       "<IPython.core.display.Image object>"
      ]
     },
     "execution_count": 444,
     "metadata": {},
     "output_type": "execute_result"
    }
   ],
   "source": [
    "from IPython.display import Image\n",
    "from IPython.core.display import HTML \n",
    "Image(url= \"http://7xlo8f.com1.z0.glb.clouddn.com/blog-diagram-stacking.jpg\")"
   ]
  },
  {
   "cell_type": "markdown",
   "metadata": {},
   "source": [
    "Stacking is an ensemble learning model. In this case, there are two layers of models: the first layer contains 5 differnt base models (can be SVM, GBM, Lasso, etc...).\n",
    "- The training data will be divided into 5 folds. In each iteration, 4 out of 5 folds will be used for training each base model and the left one fold will be used for prediction.\n",
    "- In addition, each base model will also make prediction on the whole test data in each interation.\n",
    "- The prediction made by each base model on different folds will be bind to form a training set. This new training set is a \"# of observations X # of Base models\" matrix. In short, the column will be each base model since each one has its prediction on the whole training set. \n",
    "- The predictions on the test data will be taken average to form a new test set.\n",
    "- The second layer model will be trained on the new training set (formed by base models' predictions on original training data), and the prediction will be made on the new test data. This prediction will be the final output."
   ]
  },
  {
   "cell_type": "code",
   "execution_count": 434,
   "metadata": {
    "collapsed": false
   },
   "outputs": [],
   "source": [
    "class Ensemble(object):\n",
    "    def __init__(self, n_folds, stacker, base_models):\n",
    "        self.n_folds = n_folds\n",
    "        self.stacker = stacker\n",
    "        self.base_models = base_models\n",
    "    def fit_predict(self, X, y, T):\n",
    "        X = np.array(X)\n",
    "        y = np.array(y)\n",
    "        T = np.array(T)\n",
    "        folds = list(KFold(self.n_folds, shuffle=True, random_state=200).split(X))\n",
    "        S_train = np.zeros((X.shape[0], len(self.base_models)))\n",
    "        S_test = np.zeros((T.shape[0], len(self.base_models)))\n",
    "        for i, clf in enumerate(self.base_models):\n",
    "            S_test_i = np.zeros((T.shape[0], len(folds)))\n",
    "            for j, (train_idx, test_idx) in enumerate(folds):\n",
    "                X_train = X[train_idx]\n",
    "                y_train = y[train_idx]\n",
    "                X_holdout = X[test_idx]\n",
    "                # y_holdout = y[test_idx]\n",
    "                clf.fit(X_train, y_train)\n",
    "                y_pred = clf.predict(X_holdout)[:]\n",
    "                S_train[test_idx, i] = y_pred\n",
    "                S_test_i[:, j] = clf.predict(T)[:]\n",
    "            S_test[:, i] = S_test_i.mean(1)\n",
    "        self.stacker.fit(S_train, y)\n",
    "        y_pred = self.stacker.predict(S_test)[:]\n",
    "        return y_pred"
   ]
  },
  {
   "cell_type": "markdown",
   "metadata": {},
   "source": [
    "I pick 4 base models (gbm, lasso, EN, ridge) and use gbm as the second layer model."
   ]
  },
  {
   "cell_type": "code",
   "execution_count": 440,
   "metadata": {
    "collapsed": false
   },
   "outputs": [],
   "source": [
    "# See its performance on 5-fold CV\n",
    "stacking = Ensemble(5, gbm, [gbm,lasso,EN,ridge])\n",
    "score = []\n",
    "for train_index, test_index in kf.split(x):\n",
    "    predict = stacking.fit_predict(x.iloc[train_index],y.iloc[train_index],x.iloc[test_index])\n",
    "    score.append(rmse(predict, y.iloc[test_index]))"
   ]
  },
  {
   "cell_type": "code",
   "execution_count": 441,
   "metadata": {
    "collapsed": false
   },
   "outputs": [
    {
     "name": "stdout",
     "output_type": "stream",
     "text": [
      "0.122146201553\n"
     ]
    }
   ],
   "source": [
    "print(np.mean(score))"
   ]
  },
  {
   "cell_type": "code",
   "execution_count": 442,
   "metadata": {
    "collapsed": false
   },
   "outputs": [
    {
     "name": "stdout",
     "output_type": "stream",
     "text": [
      "0.120202427391\n"
     ]
    }
   ],
   "source": [
    "score = []\n",
    "for train_index, test_index in kf.split(x2):\n",
    "    predict = stacking.fit_predict(x2.iloc[train_index],y.iloc[train_index],x2.iloc[test_index])\n",
    "    score.append(rmse(predict, y.iloc[test_index]))\n",
    "print(np.mean(score))"
   ]
  },
  {
   "cell_type": "markdown",
   "metadata": {},
   "source": [
    "Suprisingly, it is worse than single Lasso, ElasticNet and GBM."
   ]
  },
  {
   "cell_type": "markdown",
   "metadata": {},
   "source": [
    "## Take mean of different base models"
   ]
  },
  {
   "cell_type": "code",
   "execution_count": 480,
   "metadata": {
    "collapsed": false
   },
   "outputs": [
    {
     "data": {
      "text/plain": [
       "0.10983522902949291"
      ]
     },
     "execution_count": 480,
     "metadata": {},
     "output_type": "execute_result"
    }
   ],
   "source": [
    "def ensemble_mean(base_models,x,y):\n",
    "    score = []\n",
    "    for train_index, test_index in kf.split(x):\n",
    "        x_train = x.iloc[train_index];y_train = y.iloc[train_index]\n",
    "        x_test = x.iloc[test_index];y_test = y.iloc[test_index]\n",
    "        prediction = np.array([0.0 for predict in range(x_test.shape[0])])\n",
    "        for model in base_models:\n",
    "            model.fit(x_train,y_train)\n",
    "            prediction = prediction + model.predict(x_test)\n",
    "        final_pred = prediction/(len(base_models))\n",
    "        err = rmse(final_pred, y_test)\n",
    "        score.append(err)    \n",
    "    return np.mean(score)\n",
    "\n",
    "base_models = [gbm,lasso,EN,ridge]\n",
    "ensemble_mean(base_models,x,y)"
   ]
  },
  {
   "cell_type": "code",
   "execution_count": 481,
   "metadata": {
    "collapsed": false
   },
   "outputs": [
    {
     "data": {
      "text/plain": [
       "0.10947529547875264"
      ]
     },
     "execution_count": 481,
     "metadata": {},
     "output_type": "execute_result"
    }
   ],
   "source": [
    "ensemble_mean(base_models,x2,y)"
   ]
  },
  {
   "cell_type": "markdown",
   "metadata": {},
   "source": [
    "According to the performance on 5-fold CV, the mean method of ensemble modeling gives the best local error."
   ]
  },
  {
   "cell_type": "markdown",
   "metadata": {
    "collapsed": false
   },
   "source": [
    "## Submit Fianl Prediction"
   ]
  },
  {
   "cell_type": "code",
   "execution_count": 483,
   "metadata": {
    "collapsed": false
   },
   "outputs": [],
   "source": [
    "# Use mean of four base models\n",
    "gbm.fit(x,y)\n",
    "lasso.fit(x,y)\n",
    "EN.fit(x,y)\n",
    "ridge.fit(x,y)\n",
    "\n",
    "gbm_p = gbm.predict(test)\n",
    "lasso_p = lasso.predict(test)\n",
    "EN_P = EN.predict(test)\n",
    "ridge_p = ridge.predict(test)\n",
    "\n",
    "Final = (gbm_p + lasso_p + EN_P + ridge_p)/4\n",
    "Final = np.exp(Final) - 1"
   ]
  },
  {
   "cell_type": "code",
   "execution_count": 485,
   "metadata": {
    "collapsed": true
   },
   "outputs": [],
   "source": [
    "test_df = pd.read_csv(\"test.csv\")"
   ]
  },
  {
   "cell_type": "code",
   "execution_count": 498,
   "metadata": {
    "collapsed": false
   },
   "outputs": [
    {
     "data": {
      "text/plain": [
       "(1459, 2)"
      ]
     },
     "execution_count": 498,
     "metadata": {},
     "output_type": "execute_result"
    }
   ],
   "source": [
    "Prediction = pd.DataFrame({'Id': test_df.Id, 'SalePrice': Final})\n",
    "Prediction.shape  #chek number of rows are correct"
   ]
  },
  {
   "cell_type": "code",
   "execution_count": 499,
   "metadata": {
    "collapsed": true
   },
   "outputs": [],
   "source": [
    "Prediction.to_csv('stacking.csv', index =False) "
   ]
  },
  {
   "cell_type": "code",
   "execution_count": null,
   "metadata": {
    "collapsed": true
   },
   "outputs": [],
   "source": []
  },
  {
   "cell_type": "code",
   "execution_count": null,
   "metadata": {
    "collapsed": true
   },
   "outputs": [],
   "source": []
  }
 ],
 "metadata": {
  "anaconda-cloud": {},
  "kernelspec": {
   "display_name": "Python [conda root]",
   "language": "python",
   "name": "conda-root-py"
  },
  "language_info": {
   "codemirror_mode": {
    "name": "ipython",
    "version": 3
   },
   "file_extension": ".py",
   "mimetype": "text/x-python",
   "name": "python",
   "nbconvert_exporter": "python",
   "pygments_lexer": "ipython3",
   "version": "3.5.2"
  }
 },
 "nbformat": 4,
 "nbformat_minor": 1
}
